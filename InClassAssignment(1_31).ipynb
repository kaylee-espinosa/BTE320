{
  "nbformat": 4,
  "nbformat_minor": 0,
  "metadata": {
    "colab": {
      "provenance": [],
      "authorship_tag": "ABX9TyMjnvtyv44KciVbCYzNwtn6",
      "include_colab_link": true
    },
    "kernelspec": {
      "name": "python3",
      "display_name": "Python 3"
    },
    "language_info": {
      "name": "python"
    }
  },
  "cells": [
    {
      "cell_type": "markdown",
      "metadata": {
        "id": "view-in-github",
        "colab_type": "text"
      },
      "source": [
        "<a href=\"https://colab.research.google.com/github/kaylee-espinosa/BTE320/blob/main/InClassAssignment(1_31).ipynb\" target=\"_parent\"><img src=\"https://colab.research.google.com/assets/colab-badge.svg\" alt=\"Open In Colab\"/></a>"
      ]
    },
    {
      "cell_type": "code",
      "execution_count": 2,
      "metadata": {
        "colab": {
          "base_uri": "https://localhost:8080/"
        },
        "id": "XO0PINqT1nAp",
        "outputId": "de843556-dc07-4be3-c400-5da89d7ce319"
      },
      "outputs": [
        {
          "output_type": "stream",
          "name": "stdout",
          "text": [
            "Please provide number: 8\n",
            "Please providea second number: 9\n",
            "Enter operator (+,-,/,//,**,%): //\n",
            "The rounded quotient is 0.0\n"
          ]
        }
      ],
      "source": [
        "n1= float(input(\"Please provide number: \"))\n",
        "n2= float(input(\"Please providea second number: \"))\n",
        "opr= input(\"Enter operator (+,-,/,//,**,%): \")\n",
        "\n",
        "if opr == \"+\":\n",
        "  print(n1+n2)\n",
        "elif opr == \"-\":\n",
        "  print(n1-n2)\n",
        "elif opr ==\"/\":\n",
        "  print(n1/n2)\n",
        "elif opr ==\"//\":\n",
        "  print(\"The rounded quotient is\", (n1//n2))\n",
        "elif opr == \"**\":\n",
        "  print(n1, \"raised to the power of\",n2, \"is\", (n1**n2))\n",
        "elif opr == \"%\":\n",
        "  print(\"The remainder of\", n1, \"divided by\",n2, \"is\", (n1%n2))\n",
        "else:\n",
        "    print(\"Invalid Operator!\")"
      ]
    }
  ]
}