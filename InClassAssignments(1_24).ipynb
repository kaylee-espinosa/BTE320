{
  "nbformat": 4,
  "nbformat_minor": 0,
  "metadata": {
    "colab": {
      "provenance": [],
      "authorship_tag": "ABX9TyM83E5qMC5p+Xr2g3KB6qQE",
      "include_colab_link": true
    },
    "kernelspec": {
      "name": "python3",
      "display_name": "Python 3"
    },
    "language_info": {
      "name": "python"
    }
  },
  "cells": [
    {
      "cell_type": "markdown",
      "metadata": {
        "id": "view-in-github",
        "colab_type": "text"
      },
      "source": [
        "<a href=\"https://colab.research.google.com/github/kaylee-espinosa/BTE320/blob/main/InClassAssignments(1_24).ipynb\" target=\"_parent\"><img src=\"https://colab.research.google.com/assets/colab-badge.svg\" alt=\"Open In Colab\"/></a>"
      ]
    },
    {
      "cell_type": "code",
      "execution_count": null,
      "metadata": {
        "colab": {
          "base_uri": "https://localhost:8080/"
        },
        "id": "Iku00RTW3GFx",
        "outputId": "8775e329-248a-4372-a2dc-9c41c02f4f30"
      },
      "outputs": [
        {
          "output_type": "stream",
          "name": "stdout",
          "text": [
            "Enter Radius= 4\n",
            "Enter Height= 6\n",
            "Area of Cyclinder = 251.2 sq. ft\n"
          ]
        }
      ],
      "source": [
        "# Calculating the area of cyclinder with Input\n",
        "radius= float(input(\"Enter Radius= \")) #You can put float instead of int so that the person can put any number\n",
        "height = float(input(\"Enter Height= \"))\n",
        "pi = 3.14\n",
        "area = 2*pi*(radius**2) + 2*pi*radius*height\n",
        "print(\"Area of Cyclinder =\" , area , \"sq. ft\")"
      ]
    }
  ]
}