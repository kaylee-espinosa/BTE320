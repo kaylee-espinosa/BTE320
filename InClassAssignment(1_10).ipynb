{
  "nbformat": 4,
  "nbformat_minor": 0,
  "metadata": {
    "colab": {
      "provenance": [],
      "authorship_tag": "ABX9TyN5zzSpe34dolYAfh+D2XjU",
      "include_colab_link": true
    },
    "kernelspec": {
      "name": "python3",
      "display_name": "Python 3"
    },
    "language_info": {
      "name": "python"
    }
  },
  "cells": [
    {
      "cell_type": "markdown",
      "metadata": {
        "id": "view-in-github",
        "colab_type": "text"
      },
      "source": [
        "<a href=\"https://colab.research.google.com/github/kaylee-espinosa/BTE320/blob/main/InClassAssignment(1_10).ipynb\" target=\"_parent\"><img src=\"https://colab.research.google.com/assets/colab-badge.svg\" alt=\"Open In Colab\"/></a>"
      ]
    },
    {
      "cell_type": "code",
      "execution_count": 9,
      "metadata": {
        "colab": {
          "base_uri": "https://localhost:8080/"
        },
        "id": "vBjGxCUwW69j",
        "outputId": "60b9eaf9-1931-4021-c230-0fdea20d9db4"
      },
      "outputs": [
        {
          "output_type": "stream",
          "name": "stdout",
          "text": [
            "Do you want to play the game (yes/no): yes\n",
            "Player 1- Select Rock, Paper, Scissors: Rock\n",
            "Player 2- Select Rock, Paper, Scissors: Rock\n",
            "Draw!\n",
            "Do you want to play another game yes/no): no\n",
            "Good day...\n"
          ]
        }
      ],
      "source": [
        "play = input(\"Do you want to play the game (yes/no): \")\n",
        "\n",
        "while play == \"yes\":\n",
        "  p1= input(\"Player 1- Select Rock, Paper, Scissors: \" )\n",
        "  p2= input(\"Player 2- Select Rock, Paper, Scissors: \" )\n",
        "\n",
        "  if p1 == p2:\n",
        "    print (\"Draw!\")\n",
        "  elif  ((p1 == \"Rock\" and p2 == \"Scissors\")\n",
        "      or (p1 == \"Paper\" and p2 == \"Rock\")\n",
        "      or (p1 == \"Scissors\" and p2 == \"Paper\")):\n",
        "    print(\"Player 1 Wins!\")\n",
        "  else:\n",
        "    print(\"Player 2 Wins!\")\n",
        "\n",
        "  play = input(\"Do you want to play another game yes/no): \")\n",
        "print(\"Good day...\")"
      ]
    }
  ]
}