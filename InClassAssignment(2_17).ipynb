{
  "nbformat": 4,
  "nbformat_minor": 0,
  "metadata": {
    "colab": {
      "provenance": [],
      "authorship_tag": "ABX9TyOrA5ljvAkKEk7wQWNJbwUm",
      "include_colab_link": true
    },
    "kernelspec": {
      "name": "python3",
      "display_name": "Python 3"
    },
    "language_info": {
      "name": "python"
    }
  },
  "cells": [
    {
      "cell_type": "markdown",
      "metadata": {
        "id": "view-in-github",
        "colab_type": "text"
      },
      "source": [
        "<a href=\"https://colab.research.google.com/github/kaylee-espinosa/BTE320/blob/main/InClassAssignment(2_17).ipynb\" target=\"_parent\"><img src=\"https://colab.research.google.com/assets/colab-badge.svg\" alt=\"Open In Colab\"/></a>"
      ]
    },
    {
      "cell_type": "code",
      "execution_count": 10,
      "metadata": {
        "colab": {
          "base_uri": "https://localhost:8080/"
        },
        "id": "cxc6DO-qdIX5",
        "outputId": "107d93b4-ae42-472b-d494-b53e1e7f1d95"
      },
      "outputs": [
        {
          "name": "stdout",
          "output_type": "stream",
          "text": [
            "Please enter a number: 0\n"
          ]
        },
        {
          "output_type": "execute_result",
          "data": {
            "text/plain": [
              "[]"
            ]
          },
          "metadata": {},
          "execution_count": 10
        }
      ],
      "source": [
        "# creates a list that the user inputs and stops when inputs 0\n",
        "L = []\n",
        "num = int(input(\"Please enter a number: \"))\n",
        "\n",
        "while num != 0:\n",
        "  L.append(num)\n",
        "  print([num])\n",
        "  num = int(input(\"Please enter another number: \"))\n",
        "L.sort(reverse=True)\n",
        "L\n"
      ]
    }
  ]
}