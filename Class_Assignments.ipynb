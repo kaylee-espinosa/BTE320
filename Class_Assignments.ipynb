{
  "nbformat": 4,
  "nbformat_minor": 0,
  "metadata": {
    "colab": {
      "provenance": [],
      "authorship_tag": "ABX9TyNDUIsCN+f0Xs4nrmBLTaPr",
      "include_colab_link": true
    },
    "kernelspec": {
      "name": "python3",
      "display_name": "Python 3"
    },
    "language_info": {
      "name": "python"
    }
  },
  "cells": [
    {
      "cell_type": "markdown",
      "metadata": {
        "id": "view-in-github",
        "colab_type": "text"
      },
      "source": [
        "<a href=\"https://colab.research.google.com/github/kaylee-espinosa/BTE320/blob/main/Class_Assignments.ipynb\" target=\"_parent\"><img src=\"https://colab.research.google.com/assets/colab-badge.svg\" alt=\"Open In Colab\"/></a>"
      ]
    },
    {
      "cell_type": "markdown",
      "source": [
        "In Class Assignment (1/24)\n",
        "Find the Area of a Cylinder"
      ],
      "metadata": {
        "id": "hyN0nWKOLTvf"
      }
    },
    {
      "cell_type": "code",
      "execution_count": null,
      "metadata": {
        "colab": {
          "base_uri": "https://localhost:8080/"
        },
        "id": "Zmx9uuYgKu7f",
        "outputId": "128bf363-5aa1-4330-a992-0a1fcbb67005"
      },
      "outputs": [
        {
          "output_type": "stream",
          "name": "stdout",
          "text": [
            "Enter Radius= 5\n",
            "Enter Height= 3.2\n",
            "Area of Cyclinder = 257.48 sq. ft\n"
          ]
        }
      ],
      "source": [
        "# Calculating the area of cyclinder with Input\n",
        "radius= float(input(\"Enter Radius= \")) #You can put float instead of int so that the person can put any number\n",
        "height = float(input(\"Enter Height= \"))\n",
        "pi = 3.14\n",
        "area = 2*pi*(radius**2) + 2*pi*radius*height\n",
        "print(\"Area of Cyclinder =\" , area , \"sq. ft\")"
      ]
    },
    {
      "cell_type": "markdown",
      "source": [
        "In Class Assignment (1/31)\n",
        "Numerical Calculator"
      ],
      "metadata": {
        "id": "IGUIWIu2LlXA"
      }
    },
    {
      "cell_type": "code",
      "source": [
        "n1= float(input(\"Please provide number: \"))\n",
        "n2= float(input(\"Please provide a second number: \"))\n",
        "opr= input(\"Enter operator (+,-,/,//,**,%): \")\n",
        "\n",
        "if opr == \"+\":\n",
        "  print(n1+n2)\n",
        "elif opr == \"-\":\n",
        "  print(n1-n2)\n",
        "elif opr ==\"/\":\n",
        "  print(n1/n2)\n",
        "elif opr ==\"//\":\n",
        "  print(\"The rounded quotient is\", (n1//n2))\n",
        "elif opr == \"**\":\n",
        "  print(n1, \"raised to the power of\",n2, \"is\", (n1**n2))\n",
        "elif opr == \"%\":\n",
        "  print(\"The remainder of\", n1, \"divided by\",n2, \"is\", (n1%n2))\n",
        "else:\n",
        "    print(\"Invalid Operator!\")"
      ],
      "metadata": {
        "colab": {
          "base_uri": "https://localhost:8080/"
        },
        "id": "M-x7NcUULk6y",
        "outputId": "5a2b37d6-e2cb-4108-8288-24d2f527326b"
      },
      "execution_count": null,
      "outputs": [
        {
          "output_type": "stream",
          "name": "stdout",
          "text": [
            "Please provide number: 4\n",
            "Please providea second number: 5\n",
            "Enter operator (+,-,/,//,**,%): /\n",
            "0.8\n"
          ]
        }
      ]
    },
    {
      "cell_type": "markdown",
      "source": [
        "In Class Assignment (2/5)\n",
        "Parking Garage"
      ],
      "metadata": {
        "id": "ezXIYlG5MGQ8"
      }
    },
    {
      "cell_type": "code",
      "source": [
        "#A parking garage charges 5 plus 2.5 hourly, min 10 and max 20\n",
        "for hours in range(1,9):\n",
        "  fee = 5 + 2.5  * hours\n",
        "  if fee <= 10:\n",
        "    fee = 10\n",
        "  elif fee >= 20:\n",
        "    fee = 20\n",
        "  print (hours, fee)"
      ],
      "metadata": {
        "colab": {
          "base_uri": "https://localhost:8080/"
        },
        "id": "1HR_IUhNAqL1",
        "outputId": "ac10da6e-5c30-4efe-ef31-21ebf893305e"
      },
      "execution_count": null,
      "outputs": [
        {
          "output_type": "stream",
          "name": "stdout",
          "text": [
            "1 10\n",
            "2 10\n",
            "3 12.5\n",
            "4 15.0\n",
            "5 17.5\n",
            "6 20\n",
            "7 20\n",
            "8 20\n"
          ]
        }
      ]
    },
    {
      "cell_type": "markdown",
      "source": [
        "In Class Assignment (2/5) Movie Theatre Admission Tickets"
      ],
      "metadata": {
        "id": "3e9utGBqAxny"
      }
    },
    {
      "cell_type": "code",
      "source": [
        "# A movie theater on how much for advertising\n",
        "\n",
        "for cost in range(0,201,25):\n",
        "  attendees =20\n",
        "  additionalattendees = 2.0 * round(cost**.5)\n",
        "  profit = (attendees +additionalattendees) * 10 - 200\n",
        "\n",
        "  print( cost, profit-cost)"
      ],
      "metadata": {
        "colab": {
          "base_uri": "https://localhost:8080/"
        },
        "id": "xEc76FLvMfc5",
        "outputId": "4c573c41-55dc-4c7d-ecbe-c58cd3370bd5"
      },
      "execution_count": null,
      "outputs": [
        {
          "output_type": "stream",
          "name": "stdout",
          "text": [
            "0 0.0\n",
            "25 75.0\n",
            "50 90.0\n",
            "75 105.0\n",
            "100 100.0\n",
            "125 95.0\n",
            "150 90.0\n",
            "175 85.0\n",
            "200 80.0\n"
          ]
        }
      ]
    },
    {
      "cell_type": "code",
      "source": [
        "print(\"Ad$\\t\", \"Profit\")\n",
        "for adcost in range(0,201,25):\n",
        "  additional = 2 * round(adcost**0.5)\n",
        "  profit = (20 + additional) * 10 - 200 - adcost\n",
        "  print(adcost, \"\\t\", profit)"
      ],
      "metadata": {
        "colab": {
          "base_uri": "https://localhost:8080/"
        },
        "id": "lB_UXOZYCM1I",
        "outputId": "16474f62-fa5d-4529-cb88-4e8ca7155cb9"
      },
      "execution_count": null,
      "outputs": [
        {
          "output_type": "stream",
          "name": "stdout",
          "text": [
            "Ad$\t Profit\n",
            "0 \t 0\n",
            "25 \t 75\n",
            "50 \t 90\n",
            "75 \t 105\n",
            "100 \t 100\n",
            "125 \t 95\n",
            "150 \t 90\n",
            "175 \t 85\n",
            "200 \t 80\n"
          ]
        }
      ]
    },
    {
      "cell_type": "markdown",
      "source": [
        "In Class Assignment (2/10)\n",
        "Rock, Paper, Scissors Game\n"
      ],
      "metadata": {
        "id": "743LXnfKQxrf"
      }
    },
    {
      "cell_type": "code",
      "source": [
        "play = input(\"Do you want to play the game (yes/no): \")\n",
        "\n",
        "while play == \"yes\":\n",
        "  p1= input(\"Player 1- Select Rock, Paper, Scissors: \" )\n",
        "  p2= input(\"Player 2- Select Rock, Paper, Scissors: \" )\n",
        "\n",
        "  if p1 == p2:\n",
        "    print (\"Draw!\")\n",
        "  elif  ((p1 == \"Rock\" and p2 == \"Scissors\")\n",
        "      or (p1 == \"Paper\" and p2 == \"Rock\")\n",
        "      or (p1 == \"Scissors\" and p2 == \"Paper\")):\n",
        "    print(\"Player 1 Wins!\")\n",
        "  else:\n",
        "    print(\"Player 2 Wins!\")\n",
        "\n",
        "  play = input(\"Do you want to play another game yes/no): \")\n",
        "print(\"Good day...\")"
      ],
      "metadata": {
        "colab": {
          "base_uri": "https://localhost:8080/"
        },
        "id": "-D51WL8wQ8KD",
        "outputId": "796e46e5-89d1-4b91-aa2c-5102c53cfc81"
      },
      "execution_count": null,
      "outputs": [
        {
          "output_type": "stream",
          "name": "stdout",
          "text": [
            "Do you want to play the game (yes/no): yes\n",
            "Player 1- Select Rock, Paper, Scissors: Paper\n",
            "Player 2- Select Rock, Paper, Scissors: Rock\n",
            "Player 1 Wins!\n",
            "Do you want to play another game yes/no): no\n",
            "Good day...\n"
          ]
        }
      ]
    },
    {
      "cell_type": "markdown",
      "source": [
        "In Class Assignment (2/17)\n"
      ],
      "metadata": {
        "id": "EtXDl3nwRO_o"
      }
    },
    {
      "cell_type": "code",
      "source": [
        "# creates a list that the user inputs and stops when inputs 0\n",
        "L = []\n",
        "num = int(input(\"Please enter a number: \"))\n",
        "\n",
        "while num != 0:\n",
        "  L.append(num)\n",
        "  print([num])\n",
        "  num = int(input(\"Please enter another number: \"))\n",
        "L.sort(reverse=True)\n",
        "L\n"
      ],
      "metadata": {
        "colab": {
          "base_uri": "https://localhost:8080/"
        },
        "id": "rUOqQSatEFBY",
        "outputId": "4a16b3f0-62f2-4a59-b899-5a9692172983"
      },
      "execution_count": null,
      "outputs": [
        {
          "name": "stdout",
          "output_type": "stream",
          "text": [
            "Please enter a number: 7\n",
            "[7]\n",
            "Please enter another number: 9\n",
            "[9]\n",
            "Please enter another number: 0\n"
          ]
        },
        {
          "output_type": "execute_result",
          "data": {
            "text/plain": [
              "[9, 7]"
            ]
          },
          "metadata": {},
          "execution_count": 3
        }
      ]
    },
    {
      "cell_type": "markdown",
      "source": [
        "In Class Assignment (2/21) Dynamic Dictionary- Months/Numbers"
      ],
      "metadata": {
        "id": "ofipAV_uEv70"
      }
    },
    {
      "cell_type": "code",
      "source": [
        "months ={}\n",
        "\n",
        "names = [\"Jan\", \"Feb\", \"Mar\", \"Apr\", \"May\", \"Jun\", \"Jul\", \"Aug\", \"Sep\", \"Oct\", \"Nov\", \"Dec\"]\n",
        "numbers = [1,2,3,4,5,6,7,8,9,10,11,12]\n",
        "\n",
        "for idx in range(len(numbers)):\n",
        "  months[numbers[idx]] = names[idx]\n",
        "months"
      ],
      "metadata": {
        "colab": {
          "base_uri": "https://localhost:8080/"
        },
        "id": "AbNeYd27Evkf",
        "outputId": "be1273ab-4107-486b-f296-77126da60bf8"
      },
      "execution_count": null,
      "outputs": [
        {
          "output_type": "execute_result",
          "data": {
            "text/plain": [
              "{1: 'Jan',\n",
              " 2: 'Feb',\n",
              " 3: 'Mar',\n",
              " 4: 'Apr',\n",
              " 5: 'May',\n",
              " 6: 'Jun',\n",
              " 7: 'Jul',\n",
              " 8: 'Aug',\n",
              " 9: 'Sep',\n",
              " 10: 'Oct',\n",
              " 11: 'Nov',\n",
              " 12: 'Dec'}"
            ]
          },
          "metadata": {},
          "execution_count": 1
        }
      ]
    },
    {
      "cell_type": "code",
      "source": [
        "months ={}\n",
        "\n",
        "names = [\"Jan\", \"Feb\", \"Mar\", \"Apr\", \"May\", \"Jun\", \"Jul\", \"Aug\", \"Sep\", \"Oct\", \"Nov\", \"Dec\"]\n",
        "numbers = [1,2,3,4,5,6,7,8,9,10,11,12]\n",
        "\n",
        "for num in numbers:\n",
        "  months[num] = names[num - 1]\n",
        "months"
      ],
      "metadata": {
        "id": "j3B5NVfP46ns"
      },
      "execution_count": null,
      "outputs": []
    },
    {
      "cell_type": "markdown",
      "source": [
        "In Class Assignment (2/21)- Dynamic Dictionary (5 values)"
      ],
      "metadata": {
        "id": "mxkDTWBX48te"
      }
    },
    {
      "cell_type": "code",
      "source": [
        "# Build a dictionary dynamically\n",
        "counts = {}\n",
        "\n",
        "while len(counts) < 5:\n",
        "  letter= input(\"Please input a letter: \")\n",
        "  if letter not in counts:\n",
        "    counts[letter] = 1\n",
        "  else:\n",
        "    counts[letter] += 1\n",
        "counts"
      ],
      "metadata": {
        "colab": {
          "base_uri": "https://localhost:8080/"
        },
        "id": "bCsuS01c5DZn",
        "outputId": "ffcda365-3386-471e-a730-c9445377fc53"
      },
      "execution_count": null,
      "outputs": [
        {
          "name": "stdout",
          "output_type": "stream",
          "text": [
            "Please input a letter: o\n",
            "Please input a letter: l\n",
            "Please input a letter: p\n",
            "Please input a letter: p\n",
            "Please input a letter: m\n",
            "Please input a letter: t\n"
          ]
        },
        {
          "output_type": "execute_result",
          "data": {
            "text/plain": [
              "{'o': 1, 'l': 1, 'p': 2, 'm': 1, 't': 1}"
            ]
          },
          "metadata": {},
          "execution_count": 2
        }
      ]
    },
    {
      "cell_type": "markdown",
      "source": [
        "In Class Assignment (2/26)\n",
        "Parking Garage 2.0\n",
        "-Parking Garage charges $5 plus 2.5 for each hour, min fee is 10 and max fee is 20... hours from 1 to 8.\n",
        "\n"
      ],
      "metadata": {
        "id": "dVODXeB10_L4"
      }
    },
    {
      "cell_type": "code",
      "source": [
        "def calcFee(hours):\n",
        "    fee = 5 + 2.5 * hours #if you add the for loop that is what makes the program give all the prices\n",
        "    if fee <= 10:\n",
        "      fee = 10\n",
        "    elif fee >=20:\n",
        "     fee = 20\n",
        "    print(f\"fee: {fee}$\")\n",
        "\n",
        "numHours = int(input(\"Enter number of hour(s): \"))\n",
        "calcFee(numHours)"
      ],
      "metadata": {
        "colab": {
          "base_uri": "https://localhost:8080/"
        },
        "id": "k8GJoifb1Eta",
        "outputId": "101c9c35-1369-4f25-b531-e01433b740a4"
      },
      "execution_count": null,
      "outputs": [
        {
          "output_type": "stream",
          "name": "stdout",
          "text": [
            "Enter number of hour(s): 6\n",
            "fee: 20$\n"
          ]
        }
      ]
    },
    {
      "cell_type": "markdown",
      "source": [
        "In Class Assignment (3/21)\n",
        "Recursive... make a string appear backwards"
      ],
      "metadata": {
        "id": "ScrhFW2sHgeL"
      }
    },
    {
      "cell_type": "code",
      "source": [
        "def reverse(s):\n",
        "  if len(s) <= 1:\n",
        "    return s\n",
        "  else:\n",
        "    return reverse(s[1:]) + s[0]\n",
        "\n",
        "reverse(\"Hello\")"
      ],
      "metadata": {
        "id": "4DEjR2cRHynd",
        "colab": {
          "base_uri": "https://localhost:8080/",
          "height": 35
        },
        "outputId": "3c0d5a44-291a-4c35-a6f7-d3d6793fba20"
      },
      "execution_count": null,
      "outputs": [
        {
          "output_type": "execute_result",
          "data": {
            "text/plain": [
              "'olleH'"
            ],
            "application/vnd.google.colaboratory.intrinsic+json": {
              "type": "string"
            }
          },
          "metadata": {},
          "execution_count": 5
        }
      ]
    },
    {
      "cell_type": "markdown",
      "source": [
        "In Class Assigment (3/28)"
      ],
      "metadata": {
        "id": "j3f0Xdd3n84C"
      }
    },
    {
      "cell_type": "code",
      "source": [
        "def f(x,y):\n",
        "  try:\n",
        "    z = x + y\n",
        "    w = x / y\n",
        "    print(z,w)\n",
        "  except ZeroDivisionError:\n",
        "    print(\"Division by zero not allowed\")\n",
        "  except TypeError:\n",
        "    print(\"Incompatible types\")\n",
        "  except:\n",
        "    print(\"Unknown errors\")\n",
        "  else:\n",
        "    print(\"All commands worked\")\n",
        "  finally:\n",
        "    print(\"This will be displayed always\")\n",
        "\n",
        "f(2,4)"
      ],
      "metadata": {
        "colab": {
          "base_uri": "https://localhost:8080/"
        },
        "id": "75tE9F8Kninl",
        "outputId": "a914f376-0124-4824-d991-68a8f7b018a5"
      },
      "execution_count": null,
      "outputs": [
        {
          "output_type": "stream",
          "name": "stdout",
          "text": [
            "6 0.5\n",
            "All commands worked\n",
            "This will ne displayed always\n"
          ]
        }
      ]
    },
    {
      "cell_type": "markdown",
      "source": [
        "In Class Assigment (3/31)\n",
        "Find the weak points of the parking lot function"
      ],
      "metadata": {
        "id": "XsafcRzggpdf"
      }
    },
    {
      "cell_type": "code",
      "source": [
        "def calcFee(hours):\n",
        "    fee = 5 + 2.5 * hours #if you add the for loop that is what makes the program give all the prices\n",
        "    if fee <= 10:\n",
        "      fee = 10\n",
        "    elif fee >=20:\n",
        "     fee = 20\n",
        "    print(f\"fee: {fee}$\")\n",
        "\n",
        "def main():\n",
        "  try:\n",
        "    numHours = int(input(\"Enter number of hour(s): \"))\n",
        "    calcFee(numHours)\n",
        "  except ValueError:\n",
        "    print(\"Invalid input\")\n",
        "\n",
        "if __name__ == \"__main__\":\n",
        "  main()"
      ],
      "metadata": {
        "colab": {
          "base_uri": "https://localhost:8080/"
        },
        "id": "iHKP7K2fgn52",
        "outputId": "5e79252c-a41f-48e6-d16d-5fa1f365c449"
      },
      "execution_count": null,
      "outputs": [
        {
          "output_type": "stream",
          "name": "stdout",
          "text": [
            "Enter number of hour(s): 4.6\n",
            "Invalid input\n"
          ]
        }
      ]
    },
    {
      "cell_type": "markdown",
      "source": [
        "In Class Assignment (3/31)"
      ],
      "metadata": {
        "id": "twIe3--7jWOi"
      }
    },
    {
      "cell_type": "code",
      "source": [
        "def getValues(n):\n",
        "  L = []\n",
        "  for i in range(n):\n",
        "    weight = float(input(\"Enter weight: \"))\n",
        "    L.append(weight)\n",
        "  return L\n",
        "\n",
        "def calcAverage(alist):\n",
        "  try:\n",
        "    print(f'The average weight is: {sum(alist[2:]) / len(alist[2:])}')\n",
        "  except ZeroDivisionError:\n",
        "    print(\"List alist is empty or has a length less than two.\")\n",
        "\n",
        "if __name__ == \"__main__\":\n",
        "  try:\n",
        "    n = int(input(\"Enter number of weights: \"))\n",
        "    alist = getValues(n)\n",
        "    calcAverage(alist)\n",
        "  except ValueError:\n",
        "    print(\"Invalid input\")\n"
      ],
      "metadata": {
        "colab": {
          "base_uri": "https://localhost:8080/"
        },
        "id": "tbChboQmjWmz",
        "outputId": "a0cef336-2e67-4f28-8ae1-04eb3c3799ef"
      },
      "execution_count": null,
      "outputs": [
        {
          "output_type": "stream",
          "name": "stdout",
          "text": [
            "Enter number of weights: 0\n",
            "Invalid input\n"
          ]
        }
      ]
    },
    {
      "cell_type": "markdown",
      "source": [
        "In Class Assignment (4/7)\n",
        "Defining class and its methods"
      ],
      "metadata": {
        "id": "syTUBUyCm0Vj"
      }
    },
    {
      "cell_type": "code",
      "source": [
        "class Greeting:\n",
        "  def __init__(self, first, last):\n",
        "    self.first = first\n",
        "    self.last = last\n",
        "\n",
        "  def display(self):\n",
        "    print(\"Hi\", (self.first))\n",
        "\n",
        "greeting = Greeting(\"Donald\", \"Becker\")\n",
        "greeting.display()"
      ],
      "metadata": {
        "id": "1WX0mFuPm0pS",
        "colab": {
          "base_uri": "https://localhost:8080/"
        },
        "outputId": "0a14106b-82f7-4ad2-8622-ca6e04f508cd"
      },
      "execution_count": null,
      "outputs": [
        {
          "output_type": "stream",
          "name": "stdout",
          "text": [
            "Hi Donald\n"
          ]
        }
      ]
    },
    {
      "cell_type": "markdown",
      "source": [
        "In Class Assignment (4/11)\n",
        "define a class names student"
      ],
      "metadata": {
        "id": "RUWHWW2GII2U"
      }
    },
    {
      "cell_type": "code",
      "source": [
        "class Student:\n",
        "  def __init__(self, name, number):\n",
        "    self.name = name\n",
        "    self.number = number\n",
        "    self.courses = []\n",
        "\n",
        "  def enroll(self, course):\n",
        "      self.courses.append(course)\n",
        "\n",
        "  def show_courses(self):\n",
        "      if course not in self.courses:\n",
        "        self.courses.append(course)\n",
        "      else:\n",
        "        print(\"You have already enrolled in this course.\")\n",
        "\n",
        "  def get_courses(self):\n",
        "    return self.courses\n",
        "\n",
        "\n",
        "s1 = Student(\"Bob\", 100)\n",
        "s2 = Student(\"Alice\", 101)\n",
        "(s1.name, s2.name)\n"
      ],
      "metadata": {
        "colab": {
          "base_uri": "https://localhost:8080/"
        },
        "id": "0zmRa6syIOvr",
        "outputId": "c7fca977-6ed6-4101-d3a0-ef602c526127"
      },
      "execution_count": null,
      "outputs": [
        {
          "output_type": "execute_result",
          "data": {
            "text/plain": [
              "('Bob', 'Alice')"
            ]
          },
          "metadata": {},
          "execution_count": 13
        }
      ]
    },
    {
      "cell_type": "code",
      "source": [
        "s1.enroll('BTE320')"
      ],
      "metadata": {
        "id": "ERfPo2Q6P4df"
      },
      "execution_count": null,
      "outputs": []
    },
    {
      "cell_type": "code",
      "source": [
        "s1.get_courses()"
      ],
      "metadata": {
        "colab": {
          "base_uri": "https://localhost:8080/"
        },
        "id": "33k716NDQaDq",
        "outputId": "2f309c14-02f4-4089-99e9-62db5d9b3af0"
      },
      "execution_count": null,
      "outputs": [
        {
          "output_type": "execute_result",
          "data": {
            "text/plain": [
              "['BTE320']"
            ]
          },
          "metadata": {},
          "execution_count": 15
        }
      ]
    },
    {
      "cell_type": "markdown",
      "source": [
        "In Class Assignment (4/14)\n",
        "Calculate the distance between two points...using math.sqrt"
      ],
      "metadata": {
        "id": "AAxnil1csWS2"
      }
    },
    {
      "cell_type": "code",
      "source": [
        "import math\n",
        "\n",
        "class Point:\n",
        "  def __init__(self, x, y):\n",
        "    self.x = x\n",
        "    self.y = y\n",
        "\n",
        "  def distance(self, other):\n",
        "    return math.sqrt((self.x - other.x)**2 + (self.y - other.y)**2)\n",
        "\n",
        "corner_1 = Point(0,0)\n",
        "corner_2 = Point(3,4)\n",
        "corner_3 = Point(1,0)\n",
        "corner_4 = Point(5,4)\n",
        "\n",
        "corner_1.distance(corner_2)\n",
        "#"
      ],
      "metadata": {
        "colab": {
          "base_uri": "https://localhost:8080/"
        },
        "id": "W9NCStI4sWlD",
        "outputId": "781e84e4-67a6-4724-dffa-bf794b3f0d70"
      },
      "execution_count": 3,
      "outputs": [
        {
          "output_type": "execute_result",
          "data": {
            "text/plain": [
              "5.0"
            ]
          },
          "metadata": {},
          "execution_count": 3
        }
      ]
    },
    {
      "cell_type": "code",
      "source": [
        "class Rectangle:\n",
        "  def __init__(self):\n",
        "    self.c1 = Point (0, 0)\n",
        "    self.c2 = Point (0, 2)\n",
        "    self.c3 = Point (2, 0)\n",
        "    self.c4 = Point (2, 2)\n",
        "    self.width = self.calculate_width()\n",
        "    self.length = self.calculate_length()\n",
        "\n",
        "  def calculate_width(self):\n",
        "    return self.c1.distance(self.c3)\n",
        "\n",
        "  def calculate_length(self):\n",
        "    return self.c1.distance(self.c2)\n",
        "\n",
        "  def area(self):\n",
        "    return f'Area= {self.width * self.length} sq.ft'\n",
        "\n",
        "square = Rectangle()\n",
        "square.area()"
      ],
      "metadata": {
        "colab": {
          "base_uri": "https://localhost:8080/",
          "height": 35
        },
        "id": "QGry8vRI4Or_",
        "outputId": "7c541bea-8f96-47b0-aa50-aba60a7f1650"
      },
      "execution_count": 12,
      "outputs": [
        {
          "output_type": "execute_result",
          "data": {
            "text/plain": [
              "'Area= 4.0 sq.ft'"
            ],
            "application/vnd.google.colaboratory.intrinsic+json": {
              "type": "string"
            }
          },
          "metadata": {},
          "execution_count": 12
        }
      ]
    }
  ]
}