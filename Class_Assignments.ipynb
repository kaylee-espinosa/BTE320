{
  "nbformat": 4,
  "nbformat_minor": 0,
  "metadata": {
    "colab": {
      "provenance": [],
      "authorship_tag": "ABX9TyMgyEcU/q0rNtgRRrZjOLEp",
      "include_colab_link": true
    },
    "kernelspec": {
      "name": "python3",
      "display_name": "Python 3"
    },
    "language_info": {
      "name": "python"
    }
  },
  "cells": [
    {
      "cell_type": "markdown",
      "metadata": {
        "id": "view-in-github",
        "colab_type": "text"
      },
      "source": [
        "<a href=\"https://colab.research.google.com/github/kaylee-espinosa/BTE320/blob/main/Class_Assignments.ipynb\" target=\"_parent\"><img src=\"https://colab.research.google.com/assets/colab-badge.svg\" alt=\"Open In Colab\"/></a>"
      ]
    },
    {
      "cell_type": "markdown",
      "source": [
        "In Class Assignment (1/24)\n",
        "Find the Area of a Cylinder"
      ],
      "metadata": {
        "id": "hyN0nWKOLTvf"
      }
    },
    {
      "cell_type": "code",
      "execution_count": null,
      "metadata": {
        "colab": {
          "base_uri": "https://localhost:8080/"
        },
        "id": "Zmx9uuYgKu7f",
        "outputId": "128bf363-5aa1-4330-a992-0a1fcbb67005"
      },
      "outputs": [
        {
          "output_type": "stream",
          "name": "stdout",
          "text": [
            "Enter Radius= 5\n",
            "Enter Height= 3.2\n",
            "Area of Cyclinder = 257.48 sq. ft\n"
          ]
        }
      ],
      "source": [
        "# Calculating the area of cyclinder with Input\n",
        "radius= float(input(\"Enter Radius= \")) #You can put float instead of int so that the person can put any number\n",
        "height = float(input(\"Enter Height= \"))\n",
        "pi = 3.14\n",
        "area = 2*pi*(radius**2) + 2*pi*radius*height\n",
        "print(\"Area of Cyclinder =\" , area , \"sq. ft\")"
      ]
    },
    {
      "cell_type": "markdown",
      "source": [
        "In Class Assignment (1/31)\n",
        "Numerical Calculator"
      ],
      "metadata": {
        "id": "IGUIWIu2LlXA"
      }
    },
    {
      "cell_type": "code",
      "source": [
        "n1= float(input(\"Please provide number: \"))\n",
        "n2= float(input(\"Please providea second number: \"))\n",
        "opr= input(\"Enter operator (+,-,/,//,**,%): \")\n",
        "\n",
        "if opr == \"+\":\n",
        "  print(n1+n2)\n",
        "elif opr == \"-\":\n",
        "  print(n1-n2)\n",
        "elif opr ==\"/\":\n",
        "  print(n1/n2)\n",
        "elif opr ==\"//\":\n",
        "  print(\"The rounded quotient is\", (n1//n2))\n",
        "elif opr == \"**\":\n",
        "  print(n1, \"raised to the power of\",n2, \"is\", (n1**n2))\n",
        "elif opr == \"%\":\n",
        "  print(\"The remainder of\", n1, \"divided by\",n2, \"is\", (n1%n2))\n",
        "else:\n",
        "    print(\"Invalid Operator!\")"
      ],
      "metadata": {
        "colab": {
          "base_uri": "https://localhost:8080/"
        },
        "id": "M-x7NcUULk6y",
        "outputId": "059f998d-5346-48d7-8867-dfd60f3b5839"
      },
      "execution_count": null,
      "outputs": [
        {
          "output_type": "stream",
          "name": "stdout",
          "text": [
            "Please provide number: 9\n",
            "Please providea second number: 6\n",
            "Enter operator (+,-,/,//,**,%): /\n",
            "1.5\n"
          ]
        }
      ]
    },
    {
      "cell_type": "markdown",
      "source": [
        "In Class Assignment (2/5)\n",
        "Parking Garage"
      ],
      "metadata": {
        "id": "ezXIYlG5MGQ8"
      }
    },
    {
      "cell_type": "code",
      "source": [
        "#A parking garage charges 5 plus 2.5 hourly, min 10 and max 20\n",
        "for hours in range(1,9):\n",
        "  fee = 5 + 2.5  * hours\n",
        "  if fee <= 10:\n",
        "    fee = 10\n",
        "  elif fee >= 20:\n",
        "    fee = 20\n",
        "  print (hours, fee)"
      ],
      "metadata": {
        "colab": {
          "base_uri": "https://localhost:8080/"
        },
        "id": "1HR_IUhNAqL1",
        "outputId": "ac10da6e-5c30-4efe-ef31-21ebf893305e"
      },
      "execution_count": null,
      "outputs": [
        {
          "output_type": "stream",
          "name": "stdout",
          "text": [
            "1 10\n",
            "2 10\n",
            "3 12.5\n",
            "4 15.0\n",
            "5 17.5\n",
            "6 20\n",
            "7 20\n",
            "8 20\n"
          ]
        }
      ]
    },
    {
      "cell_type": "markdown",
      "source": [
        "In Class Assignment (2/5) Movie Theatre Admission Tickets"
      ],
      "metadata": {
        "id": "3e9utGBqAxny"
      }
    },
    {
      "cell_type": "code",
      "source": [
        "# A movie theater on how much for advertising\n",
        "\n",
        "for cost in range(0,201,25):\n",
        "  attendees =20\n",
        "  additionalattendees = 2.0 * round(cost**.5)\n",
        "  profit = (attendees +additionalattendees) * 10 - 200\n",
        "\n",
        "  print( cost, profit-cost)"
      ],
      "metadata": {
        "colab": {
          "base_uri": "https://localhost:8080/"
        },
        "id": "xEc76FLvMfc5",
        "outputId": "4c573c41-55dc-4c7d-ecbe-c58cd3370bd5"
      },
      "execution_count": null,
      "outputs": [
        {
          "output_type": "stream",
          "name": "stdout",
          "text": [
            "0 0.0\n",
            "25 75.0\n",
            "50 90.0\n",
            "75 105.0\n",
            "100 100.0\n",
            "125 95.0\n",
            "150 90.0\n",
            "175 85.0\n",
            "200 80.0\n"
          ]
        }
      ]
    },
    {
      "cell_type": "code",
      "source": [
        "print(\"Ad$\\t\", \"Profit\")\n",
        "for adcost in range(0,201,25):\n",
        "  additional = 2 * round(adcost**0.5)\n",
        "  profit = (20 + additional) * 10 - 200 - adcost\n",
        "  print(adcost, \"\\t\", profit)"
      ],
      "metadata": {
        "colab": {
          "base_uri": "https://localhost:8080/"
        },
        "id": "lB_UXOZYCM1I",
        "outputId": "16474f62-fa5d-4529-cb88-4e8ca7155cb9"
      },
      "execution_count": null,
      "outputs": [
        {
          "output_type": "stream",
          "name": "stdout",
          "text": [
            "Ad$\t Profit\n",
            "0 \t 0\n",
            "25 \t 75\n",
            "50 \t 90\n",
            "75 \t 105\n",
            "100 \t 100\n",
            "125 \t 95\n",
            "150 \t 90\n",
            "175 \t 85\n",
            "200 \t 80\n"
          ]
        }
      ]
    },
    {
      "cell_type": "markdown",
      "source": [
        "In Class Assignment (2/10)\n",
        "Rock, Paper, Scissors Game\n"
      ],
      "metadata": {
        "id": "743LXnfKQxrf"
      }
    },
    {
      "cell_type": "code",
      "source": [
        "play = input(\"Do you want to play the game (yes/no): \")\n",
        "\n",
        "while play == \"yes\":\n",
        "  p1= input(\"Player 1- Select Rock, Paper, Scissors: \" )\n",
        "  p2= input(\"Player 2- Select Rock, Paper, Scissors: \" )\n",
        "\n",
        "  if p1 == p2:\n",
        "    print (\"Draw!\")\n",
        "  elif  ((p1 == \"Rock\" and p2 == \"Scissors\")\n",
        "      or (p1 == \"Paper\" and p2 == \"Rock\")\n",
        "      or (p1 == \"Scissors\" and p2 == \"Paper\")):\n",
        "    print(\"Player 1 Wins!\")\n",
        "  else:\n",
        "    print(\"Player 2 Wins!\")\n",
        "\n",
        "  play = input(\"Do you want to play another game yes/no): \")\n",
        "print(\"Good day...\")"
      ],
      "metadata": {
        "colab": {
          "base_uri": "https://localhost:8080/"
        },
        "id": "-D51WL8wQ8KD",
        "outputId": "796e46e5-89d1-4b91-aa2c-5102c53cfc81"
      },
      "execution_count": null,
      "outputs": [
        {
          "output_type": "stream",
          "name": "stdout",
          "text": [
            "Do you want to play the game (yes/no): yes\n",
            "Player 1- Select Rock, Paper, Scissors: Paper\n",
            "Player 2- Select Rock, Paper, Scissors: Rock\n",
            "Player 1 Wins!\n",
            "Do you want to play another game yes/no): no\n",
            "Good day...\n"
          ]
        }
      ]
    },
    {
      "cell_type": "markdown",
      "source": [
        "In Class Assignment (2/17)\n"
      ],
      "metadata": {
        "id": "EtXDl3nwRO_o"
      }
    },
    {
      "cell_type": "code",
      "source": [
        "# creates a list that the user inputs and stops when inputs 0\n",
        "L = []\n",
        "num = int(input(\"Please enter a number: \"))\n",
        "\n",
        "while num != 0:\n",
        "  L.append(num)\n",
        "  print([num])\n",
        "  num = int(input(\"Please enter another number: \"))\n",
        "L.sort(reverse=True)\n",
        "L\n"
      ],
      "metadata": {
        "colab": {
          "base_uri": "https://localhost:8080/"
        },
        "id": "rUOqQSatEFBY",
        "outputId": "4a16b3f0-62f2-4a59-b899-5a9692172983"
      },
      "execution_count": null,
      "outputs": [
        {
          "name": "stdout",
          "output_type": "stream",
          "text": [
            "Please enter a number: 7\n",
            "[7]\n",
            "Please enter another number: 9\n",
            "[9]\n",
            "Please enter another number: 0\n"
          ]
        },
        {
          "output_type": "execute_result",
          "data": {
            "text/plain": [
              "[9, 7]"
            ]
          },
          "metadata": {},
          "execution_count": 3
        }
      ]
    },
    {
      "cell_type": "markdown",
      "source": [
        "In Class Assignment (2/21) Dynamic Dictionary- Months/Numbers"
      ],
      "metadata": {
        "id": "ofipAV_uEv70"
      }
    },
    {
      "cell_type": "code",
      "source": [
        "months ={}\n",
        "\n",
        "names = [\"Jan\", \"Feb\", \"Mar\", \"Apr\", \"May\", \"Jun\", \"Jul\", \"Aug\", \"Sep\", \"Oct\", \"Nov\", \"Dec\"]\n",
        "numbers = [1,2,3,4,5,6,7,8,9,10,11,12]\n",
        "\n",
        "for idx in range(len(numbers)):\n",
        "  months[numbers[idx]] = names[idx]\n",
        "months"
      ],
      "metadata": {
        "colab": {
          "base_uri": "https://localhost:8080/"
        },
        "id": "AbNeYd27Evkf",
        "outputId": "be1273ab-4107-486b-f296-77126da60bf8"
      },
      "execution_count": null,
      "outputs": [
        {
          "output_type": "execute_result",
          "data": {
            "text/plain": [
              "{1: 'Jan',\n",
              " 2: 'Feb',\n",
              " 3: 'Mar',\n",
              " 4: 'Apr',\n",
              " 5: 'May',\n",
              " 6: 'Jun',\n",
              " 7: 'Jul',\n",
              " 8: 'Aug',\n",
              " 9: 'Sep',\n",
              " 10: 'Oct',\n",
              " 11: 'Nov',\n",
              " 12: 'Dec'}"
            ]
          },
          "metadata": {},
          "execution_count": 1
        }
      ]
    },
    {
      "cell_type": "code",
      "source": [
        "months ={}\n",
        "\n",
        "names = [\"Jan\", \"Feb\", \"Mar\", \"Apr\", \"May\", \"Jun\", \"Jul\", \"Aug\", \"Sep\", \"Oct\", \"Nov\", \"Dec\"]\n",
        "numbers = [1,2,3,4,5,6,7,8,9,10,11,12]\n",
        "\n",
        "for num in numbers:\n",
        "  months[num] = names[num - 1]\n",
        "months"
      ],
      "metadata": {
        "id": "j3B5NVfP46ns"
      },
      "execution_count": null,
      "outputs": []
    },
    {
      "cell_type": "markdown",
      "source": [
        "In Class Assignment (2/21)- Dynamic Dictionary (5 values)"
      ],
      "metadata": {
        "id": "mxkDTWBX48te"
      }
    },
    {
      "cell_type": "code",
      "source": [
        "# Build a dictionary dynamically\n",
        "counts = {}\n",
        "\n",
        "while len(counts) < 5:\n",
        "  letter= input(\"Please input a letter: \")\n",
        "  if letter not in counts:\n",
        "    counts[letter] = 1\n",
        "  else:\n",
        "    counts[letter] += 1\n",
        "counts"
      ],
      "metadata": {
        "colab": {
          "base_uri": "https://localhost:8080/"
        },
        "id": "bCsuS01c5DZn",
        "outputId": "ffcda365-3386-471e-a730-c9445377fc53"
      },
      "execution_count": null,
      "outputs": [
        {
          "name": "stdout",
          "output_type": "stream",
          "text": [
            "Please input a letter: o\n",
            "Please input a letter: l\n",
            "Please input a letter: p\n",
            "Please input a letter: p\n",
            "Please input a letter: m\n",
            "Please input a letter: t\n"
          ]
        },
        {
          "output_type": "execute_result",
          "data": {
            "text/plain": [
              "{'o': 1, 'l': 1, 'p': 2, 'm': 1, 't': 1}"
            ]
          },
          "metadata": {},
          "execution_count": 2
        }
      ]
    },
    {
      "cell_type": "markdown",
      "source": [
        "In Class Assignment (2/26)\n",
        "Parking Garage 2.0\n",
        "-Parking Garage charges $5 plus 2.5 for each hour, min fee is 10 and max fee is 20... hours from 1 to 8.\n",
        "\n"
      ],
      "metadata": {
        "id": "dVODXeB10_L4"
      }
    },
    {
      "cell_type": "code",
      "source": [
        "def calcFee(hours):\n",
        "    fee = 5 + 2.5 * hours #if you add the for loop that is what makes the program give all the prices\n",
        "    if fee <= 10:\n",
        "      fee = 10\n",
        "    elif fee >=20:\n",
        "     fee = 20\n",
        "    print(f\"fee: {fee}$\")\n",
        "\n",
        "numHours = int(input(\"Enter number of hour(s): \"))\n",
        "calcFee(numHours)"
      ],
      "metadata": {
        "colab": {
          "base_uri": "https://localhost:8080/"
        },
        "id": "k8GJoifb1Eta",
        "outputId": "101c9c35-1369-4f25-b531-e01433b740a4"
      },
      "execution_count": null,
      "outputs": [
        {
          "output_type": "stream",
          "name": "stdout",
          "text": [
            "Enter number of hour(s): 6\n",
            "fee: 20$\n"
          ]
        }
      ]
    },
    {
      "cell_type": "markdown",
      "source": [
        "In Class Assignment (3/21)\n",
        "Recursive... make a string appear backwards"
      ],
      "metadata": {
        "id": "ScrhFW2sHgeL"
      }
    },
    {
      "cell_type": "code",
      "source": [
        "def reverse(s):\n",
        "  if len(s) <= 1:\n",
        "    return s\n",
        "  else:\n",
        "    return reverse(s[1:]) + s[0]\n",
        "\n",
        "reverse(\"Hello\")"
      ],
      "metadata": {
        "id": "4DEjR2cRHynd",
        "colab": {
          "base_uri": "https://localhost:8080/",
          "height": 35
        },
        "outputId": "3c0d5a44-291a-4c35-a6f7-d3d6793fba20"
      },
      "execution_count": 5,
      "outputs": [
        {
          "output_type": "execute_result",
          "data": {
            "text/plain": [
              "'olleH'"
            ],
            "application/vnd.google.colaboratory.intrinsic+json": {
              "type": "string"
            }
          },
          "metadata": {},
          "execution_count": 5
        }
      ]
    }
  ]
}